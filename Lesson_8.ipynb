{
 "cells": [
  {
   "cell_type": "code",
   "execution_count": 1,
   "metadata": {},
   "outputs": [],
   "source": [
    "import pandas as pd\n",
    "import numpy as np\n",
    "import matplotlib.pyplot as plt\n",
    "import pprint\n",
    "import datetime\n",
    "import seaborn as sns"
   ]
  },
  {
   "cell_type": "code",
   "execution_count": 2,
   "metadata": {},
   "outputs": [],
   "source": [
    "df = pd.read_csv('opendata.csv', encoding='Windows 1251')"
   ]
  },
  {
   "cell_type": "code",
   "execution_count": 3,
   "metadata": {},
   "outputs": [
    {
     "data": {
      "text/html": [
       "<div>\n",
       "<style scoped>\n",
       "    .dataframe tbody tr th:only-of-type {\n",
       "        vertical-align: middle;\n",
       "    }\n",
       "\n",
       "    .dataframe tbody tr th {\n",
       "        vertical-align: top;\n",
       "    }\n",
       "\n",
       "    .dataframe thead th {\n",
       "        text-align: right;\n",
       "    }\n",
       "</style>\n",
       "<table border=\"1\" class=\"dataframe\">\n",
       "  <thead>\n",
       "    <tr style=\"text-align: right;\">\n",
       "      <th></th>\n",
       "      <th>name</th>\n",
       "      <th>region</th>\n",
       "      <th>date</th>\n",
       "      <th>value</th>\n",
       "    </tr>\n",
       "  </thead>\n",
       "  <tbody>\n",
       "    <tr>\n",
       "      <th>0</th>\n",
       "      <td>Количество заявок на потребительские кредиты</td>\n",
       "      <td>Россия</td>\n",
       "      <td>2013-01-15</td>\n",
       "      <td>571147</td>\n",
       "    </tr>\n",
       "    <tr>\n",
       "      <th>1</th>\n",
       "      <td>Количество заявок на потребительские кредиты</td>\n",
       "      <td>Россия</td>\n",
       "      <td>2013-02-15</td>\n",
       "      <td>504508</td>\n",
       "    </tr>\n",
       "    <tr>\n",
       "      <th>2</th>\n",
       "      <td>Количество заявок на потребительские кредиты</td>\n",
       "      <td>Россия</td>\n",
       "      <td>2013-03-15</td>\n",
       "      <td>628803</td>\n",
       "    </tr>\n",
       "    <tr>\n",
       "      <th>3</th>\n",
       "      <td>Количество заявок на потребительские кредиты</td>\n",
       "      <td>Россия</td>\n",
       "      <td>2013-04-15</td>\n",
       "      <td>836054</td>\n",
       "    </tr>\n",
       "    <tr>\n",
       "      <th>4</th>\n",
       "      <td>Количество заявок на потребительские кредиты</td>\n",
       "      <td>Россия</td>\n",
       "      <td>2013-05-15</td>\n",
       "      <td>867235</td>\n",
       "    </tr>\n",
       "  </tbody>\n",
       "</table>\n",
       "</div>"
      ],
      "text/plain": [
       "                                           name  region        date   value\n",
       "0  Количество заявок на потребительские кредиты  Россия  2013-01-15  571147\n",
       "1  Количество заявок на потребительские кредиты  Россия  2013-02-15  504508\n",
       "2  Количество заявок на потребительские кредиты  Россия  2013-03-15  628803\n",
       "3  Количество заявок на потребительские кредиты  Россия  2013-04-15  836054\n",
       "4  Количество заявок на потребительские кредиты  Россия  2013-05-15  867235"
      ]
     },
     "execution_count": 3,
     "metadata": {},
     "output_type": "execute_result"
    }
   ],
   "source": [
    "df.head()"
   ]
  },
  {
   "cell_type": "code",
   "execution_count": 4,
   "metadata": {},
   "outputs": [],
   "source": [
    "df['date'] = pd.to_datetime(df['date'])"
   ]
  },
  {
   "cell_type": "code",
   "execution_count": 5,
   "metadata": {},
   "outputs": [],
   "source": [
    "params={}"
   ]
  },
  {
   "cell_type": "code",
   "execution_count": 6,
   "metadata": {},
   "outputs": [],
   "source": [
    "name_arr = df['name'].unique()"
   ]
  },
  {
   "cell_type": "code",
   "execution_count": 7,
   "metadata": {},
   "outputs": [],
   "source": [
    "reg_arr = df['region'].unique()"
   ]
  },
  {
   "cell_type": "code",
   "execution_count": 8,
   "metadata": {},
   "outputs": [],
   "source": [
    "min_date = df['date'].min()\n",
    "max_date = df['date'].max()"
   ]
  },
  {
   "cell_type": "code",
   "execution_count": 9,
   "metadata": {},
   "outputs": [],
   "source": [
    "def get_date():\n",
    "    year = int(input('Введите год:'))\n",
    "    month = int(input('Введите месяц:'))\n",
    "    day = int(input('Введите день:'))\n",
    "    return datetime.date(year, month, day)"
   ]
  },
  {
   "cell_type": "code",
   "execution_count": 15,
   "metadata": {},
   "outputs": [],
   "source": [
    "def get_dates():\n",
    "    print(f'Введите дату начала из интервала {min_date} - {max_date}:')\n",
    "    params['Начало периода'] = get_date()\n",
    "\n",
    "    print(f'Введите дату окончания выборки из интервала {min_date} - {max_date}:')\n",
    "    params['Конец периода'] = get_date()\n",
    "    if params['Начало периода']>params['Конец периода']:\n",
    "        print('Дата окончания периода не может быть меньше даты начала. Дата окончания изменена.')\n",
    "        params['Начало периода']=params['Конец периода']\n",
    "        print(params['Конец периода'])"
   ]
  },
  {
   "cell_type": "code",
   "execution_count": 16,
   "metadata": {},
   "outputs": [],
   "source": [
    "def get_value(arr):\n",
    "    num = 1\n",
    "    for item in arr:\n",
    "        print(f'{num} - {item}')\n",
    "        num+=1\n",
    "    param_val = int(input('Введите номер значения:'))\n",
    "    return arr[param_val-1]       "
   ]
  },
  {
   "cell_type": "code",
   "execution_count": 17,
   "metadata": {},
   "outputs": [
    {
     "name": "stdout",
     "output_type": "stream",
     "text": [
      "Параметры:\n",
      "1 - тип данных\n",
      "2 - интервал дат\n",
      "3 - область\n"
     ]
    }
   ],
   "source": [
    "print('Параметры:')\n",
    "print('1 - тип данных')\n",
    "print('2 - интервал дат')\n",
    "print('3 - область')    "
   ]
  },
  {
   "cell_type": "code",
   "execution_count": 18,
   "metadata": {},
   "outputs": [
    {
     "name": "stdout",
     "output_type": "stream",
     "text": [
      "Введите номер параметра:1\n",
      "Значение параметра \"Тип данных\" уже задано - Средняя зарплата\n",
      "Ввести заново? (Y - да, N - нет)N\n",
      "Ввод параметров завершен? (Y - да, N - нет)N\n",
      "Введите номер параметра:2\n",
      "Введите дату начала из интервала 2013-01-15 00:00:00 - 2019-01-15 00:00:00:\n",
      "Введите год:2019\n",
      "Введите месяц:01\n",
      "Введите день:01\n",
      "Введите дату окончания выборки из интервала 2013-01-15 00:00:00 - 2019-01-15 00:00:00:\n",
      "Введите год:2019\n",
      "Введите месяц:12\n",
      "Введите день:31\n",
      "Ввод параметров завершен? (Y - да, N - нет)N\n",
      "Введите номер параметра:2\n",
      "Значение параметра \"Интервал дат\" уже задано - Начало периода: 2019-01-01, Конец периода: - 2019-12-31\n",
      "Ввести заново? (Y - да, N - нет)Y\n",
      "Введите дату начала из интервала 2013-01-15 00:00:00 - 2019-01-15 00:00:00:\n",
      "Введите год:2015\n",
      "Введите месяц:01\n",
      "Введите день:01\n",
      "Введите дату окончания выборки из интервала 2013-01-15 00:00:00 - 2019-01-15 00:00:00:\n",
      "Введите год:2019\n",
      "Введите месяц:12\n",
      "Введите день:31\n",
      "Ввод параметров завершен? (Y - да, N - нет)Y\n",
      "Введены параметры:\n",
      "Тип данных - Средняя зарплата\n",
      "Начало периода - 2015-01-01\n",
      "Конец периода - 2019-12-31\n"
     ]
    }
   ],
   "source": [
    "while True:\n",
    "    param = int(input('Введите номер параметра:'))\n",
    "    \n",
    "    if param==1:\n",
    "        if not params.get('Тип данных'): \n",
    "            params['Тип данных'] = get_value(name_arr)   \n",
    "        else:\n",
    "            val = params.get('Тип данных')\n",
    "            print(f'Значение параметра \"Тип данных\" уже задано - {val}')\n",
    "            ans = input('Ввести заново? (Y - да, N - нет)')\n",
    "            if ans=='Y':\n",
    "                params['Тип данных'] = get_value(name_arr)\n",
    "    elif param==2:\n",
    "        if not params.get('Начало периода'): \n",
    "            get_dates()\n",
    "        else:\n",
    "            val_1 = params.get('Начало периода')\n",
    "            val_2 = params.get('Конец периода')\n",
    "            print(f'Значение параметра \"Интервал дат\" уже задано - Начало периода: {val_1}, Конец периода: - {val_2}')\n",
    "            ans = input('Ввести заново? (Y - да, N - нет)')\n",
    "            if ans=='Y':\n",
    "                get_dates()  \n",
    "    elif param==3:\n",
    "        if not params.get('Область'): \n",
    "            params['Область'] = get_value(reg_arr)   \n",
    "        else:\n",
    "            val = params.get('Область')\n",
    "            print(f'Значение параметра \"Область\" уже задано - {val}')\n",
    "            ans = input('Ввести заново? (Y - да, N - нет)')\n",
    "            if ans=='Y':\n",
    "                params['Область'] = get_value(reg_arr) \n",
    "    else:\n",
    "        print('Введено некорректное значение параметра')\n",
    "    \n",
    "    \n",
    "    ans = input('Ввод параметров завершен? (Y - да, N - нет)')\n",
    "    if ans=='Y':\n",
    "        break\n",
    "        \n",
    "print('Введены параметры:')\n",
    "for item in params:\n",
    "    print(f'{item} - {params[item]}')  \n",
    "        "
   ]
  },
  {
   "cell_type": "code",
   "execution_count": 19,
   "metadata": {},
   "outputs": [],
   "source": [
    "data=df\n",
    "leg=''\n",
    "if params.get('Тип данных'):\n",
    "    data = data.loc[data['name']==params['Тип данных']]\n",
    "    leg = leg + f\"{params['Тип данных']}\"\n",
    "\n",
    "if params.get('Начало периода'):\n",
    "    data = data.loc[data['date']>pd.Timestamp(params['Начало периода'])]\n",
    "    leg = leg + f\" с {params['Начало периода']}\"\n",
    "        \n",
    "if params.get('Конец периода'):\n",
    "    data = data.loc[data['date']<pd.Timestamp(params['Конец периода'])]    \n",
    "    leg = leg + f\" по {params['Конец периода']}\"\n",
    "    \n",
    "if params.get('Область'):\n",
    "    data = data.loc[data['region']==params['Область']]   \n",
    "    leg = leg + f\" - {params['Область']}\""
   ]
  },
  {
   "cell_type": "code",
   "execution_count": 20,
   "metadata": {},
   "outputs": [
    {
     "data": {
      "text/plain": [
       "(29131.02, 25115.0, 19389)"
      ]
     },
     "execution_count": 20,
     "metadata": {},
     "output_type": "execute_result"
    }
   ],
   "source": [
    "target_mean = round(data['value'].mean(), 2)\n",
    "target_median = data['value'].median()\n",
    "target_mode = data['value'].mode()[0]\n",
    "\n",
    "target_mean, target_median, target_mode"
   ]
  },
  {
   "cell_type": "code",
   "execution_count": 21,
   "metadata": {},
   "outputs": [
    {
     "data": {
      "image/png": "[encoded data removed]",
      "text/plain": [
       "<Figure size 1152x576 with 1 Axes>"
      ]
     },
     "metadata": {
      "needs_background": "light"
     },
     "output_type": "display_data"
    }
   ],
   "source": [
    "plt.figure(figsize = (16, 8))\n",
    "\n",
    "sns.distplot(data['value'])\n",
    "\n",
    "y = np.linspace(0, 0.000005, 100)\n",
    "plt.plot([target_mean] * 100, y, label='mean', linestyle=':', linewidth=4)\n",
    "plt.plot([target_median] * 100, y, label='median', linestyle='--', linewidth=4)\n",
    "plt.plot([target_mode] * 100, y, label='mode', linestyle='-.', linewidth=4)\n",
    "\n",
    "plt.title(leg)\n",
    "plt.legend()\n",
    "plt.show()"
   ]
  },
  {
   "cell_type": "code",
   "execution_count": 22,
   "metadata": {},
   "outputs": [
    {
     "data": {
      "image/png": "[encoded data removed]",
      "text/plain": [
       "<Figure size 1152x576 with 2 Axes>"
      ]
     },
     "metadata": {
      "needs_background": "light"
     },
     "output_type": "display_data"
    }
   ],
   "source": [
    "plt.figure(figsize = (16, 8))\n",
    "\n",
    "plt.subplot(121)\n",
    "data['value'].hist()\n",
    "plt.ylabel('Count')\n",
    "plt.xlabel('value')\n",
    "\n",
    "plt.subplot(122)\n",
    "sns.kdeplot(data['value'], shade=True, legend=False)\n",
    "plt.xlabel('value')\n",
    "\n",
    "plt.suptitle(leg)\n",
    "plt.show()"
   ]
  },
  {
   "cell_type": "code",
   "execution_count": null,
   "metadata": {},
   "outputs": [],
   "source": []
  },
  {
   "cell_type": "code",
   "execution_count": null,
   "metadata": {},
   "outputs": [],
   "source": []
  }
 ],
 "metadata": {
  "kernelspec": {
   "display_name": "Python 3",
   "language": "python",
   "name": "python3"
  },
  "language_info": {
   "codemirror_mode": {
    "name": "ipython",
    "version": 3
   },
   "file_extension": ".py",
   "mimetype": "text/x-python",
   "name": "python",
   "nbconvert_exporter": "python",
   "pygments_lexer": "ipython3",
   "version": "3.7.3"
  }
 },
 "nbformat": 4,
 "nbformat_minor": 2
}
